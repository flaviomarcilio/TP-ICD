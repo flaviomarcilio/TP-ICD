{
 "cells": [
  {
   "attachments": {},
   "cell_type": "markdown",
   "metadata": {},
   "source": [
    "Trabalho Prático de Introdução a Ciência dos Dados.\n",
    "\n",
    "Base: Campeonato Brasileiro de futebol. Qual rendimento um time precisa ter em casa e fora para ser campeão?\n",
    "\n",
    "Perguntas: \n",
    "Existe alguma relação entre a colocação de um time no campeonato e o estado de qual ele vem?\n",
    "\n",
    "Existe alguma relação entre gols pro e contra para que o time seja campeão?\n",
    "\n",
    "Existe alguma relação entre posse de bola e vitória?\n",
    "\n",
    "Quantas finalizações em média são necessárias para gerar um gol?"
   ]
  },
  {
   "attachments": {},
   "cell_type": "markdown",
   "metadata": {},
   "source": [
    "Análise exploratória"
   ]
  },
  {
   "cell_type": "code",
   "execution_count": null,
   "metadata": {},
   "outputs": [],
   "source": []
  }
 ],
 "metadata": {
  "language_info": {
   "name": "python"
  },
  "orig_nbformat": 4
 },
 "nbformat": 4,
 "nbformat_minor": 2
}
